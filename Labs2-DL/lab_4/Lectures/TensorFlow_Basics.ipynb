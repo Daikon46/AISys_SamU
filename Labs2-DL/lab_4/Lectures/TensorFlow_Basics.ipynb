{
 "cells": [
  {
   "cell_type": "markdown",
   "metadata": {},
   "source": [
    "# Что такое TensorFlow и где его используют?"
   ]
  },
  {
   "cell_type": "markdown",
   "metadata": {},
   "source": [
    "Автор лекции: [Килбас Игорь](https://github.com/oKatanaaa)"
   ]
  },
  {
   "cell_type": "markdown",
   "metadata": {},
   "source": [
    "**TensorFlow - это библиотека машинного обучения, позволяющая обучать приозвольные модели глубокого обучения**: \n",
    "свёрточные нейронные сети, рекуррентные нейронные сети и прочие модели (вообще говоря, любые модели глубокого обучения). \n",
    "Однако **TensorFlow не ограничен только обучением нейронных сетей и может быть использован для решения любых математических \n",
    "задач**, где полезно утилизировать мощности GPU или же есть необходимость в автоматическом дифференцировании (вычисление \n",
    "производной).\n",
    "\n",
    "**TensorFlow имеет очень широкое сообщество.** Для TensorFlow уже написано туториалов, большое множество ML проектов используют именно TensorFlow, собраны целые библиотеки предобученных моделей. \n",
    "\n",
    "**TensorFlow отлично подходит как для научной деятельности, так и для бизнеса.** TensorFlow имеет целую экосистему инструментов:\n",
    "- [TensorFlow Lite](https://www.tensorflow.org/lite) - полезен при разработке и оптимизации моделей, что будут запускаться на мобильных девайсах.\n",
    "- [TensorFlow.js](https://www.tensorflow.org/js) - разработка моделей, запускаемых прямо в браузере.\n",
    "- [TensorFlow Extended](https://www.tensorflow.org/tfx) - набор инструментов для деплоинга моделей в виде бизнес решений.\n",
    "- [TensorFlow Hub](https://www.tensorflow.org/hub) - библиотека предобученных моделей (детекторы объектов, классификаторы и т.д.).\n",
    "\n",
    "Дабы не пугать новоприбывших, все вышеозвученные вещи знать необязательно. Чтобы эффективно использовать TensorFlow, достаточно лишь уметь пользоваться исходной библиотекой, это покроет 99% случаев. Остальное - вишенка на торте, упрощающая жизнь в сложных проектах.\n",
    "\n",
    "В данной лекции будет рассматриваться TensorFlow 2.8 (последняя версия на момент написания лекции)."
   ]
  },
  {
   "cell_type": "markdown",
   "metadata": {},
   "source": [
    "## TensorFlow 1.x vs TensorFlow 2.x"
   ]
  },
  {
   "cell_type": "markdown",
   "metadata": {},
   "source": [
    "*Данный пункт является историческим экскурсом и не обязателен для чтения.*\n",
    "\n",
    "До появления [PyTorch](https://pytorch.org/) с его возможностями динамических вычислений (eager execution) очень многие библиотеки (включая TensorFlow 1.x) использовали статические графы.\n",
    "Например, в Pytorch вычисления происходят по ходу исполнения кода:\n",
    "```python\n",
    "x = torch.tensor([1, 2, 3])\n",
    "x = torch.sin(x)  # Синус начинает вычисляться сразу после вызова функции\n",
    "print(x)  # -> tensor([0.8415, 0.9093, 0.1411])\n",
    "```\n",
    "\n",
    "Однако в случае TensorFlow 1.x аналогичный код не будет производить какие-либо вычисления:\n",
    "```python\n",
    "x = tf.convert_to_tensor([1, 2, 3], dtype='float32')\n",
    "x = tf.sin(x)  # Синус не вычисляется\n",
    "print(x)  # -> Tensor(\"Sin_1:0\", shape=(3,), dtype=float32)\n",
    "```\n",
    "В отличие от PyTorch, TensorFlow 1.x лишь записывает порядок вычислений, строя так называемый статический вычислительный граф. Ранее необходимо было сначала объявить порядок вычислений (построить статический граф), а после запустить граф, подавая данные в его отдельные узлы.\n",
    "```python\n",
    "sess = tf.Session()\n",
    "x_val = sess.run(x)  # Запускает вычислительный граф\n",
    "print(x_val)  # -> [0.84147096 0.9092974  0.14112   ]\n",
    "```\n",
    "\n",
    "Пример программы на TensorFlow 1.x:\n",
    "```python\n",
    "x = tf.placeholder(shape=[3], dtype='float32')  # Обозначает место входа данных в граф\n",
    "y = tf.sin(x)\n",
    "sess = tf.Session()  #  Является менеджером вычислений. Определяет где и как они будут проходить\n",
    "y_val = sess.run(\n",
    "    y,\n",
    "    feed_dict={ x: [1., 2., 3.] }  # Запускаем граф, передавая в x данные\n",
    ")\n",
    "print(y_val)\n",
    "```\n",
    "\n",
    "Такой подход имеет преимущество в виде возможности оптимизации построенного графа, сильно ускоряя вычисления и снижая потребления по памяти. Однако статические графы не очень гибки и тем самым замедляют разработку моделей, поскольку результат вычислений можно увидеть только после того, как весь граф был построен и запущен. Помимо статических графов, в TensorFlow 1.x был не самый чистый API, а сам код программ с TF порой выглядел запутанно и громоздко (а порой просто нечитаемо). Говоря об отношении сообщества к TensorFlow 1.x, можно процитировать один из [твитов](https://twitter.com/karpathy/status/868178954032513024?lang=en): `Я пользуюсь PyTorch вот уже несколько месяцев и я еще никогда не чувствовал себя лучше. Я стал более энергичным. Моя кожа стала чиже. Моё зрение улучшилось.`\n",
    "\n",
    "С выходом PyTorch стало возможным писать ML программы, рассуждая о них как об обычных программах, которые производят вычисления по ходу исполнения инструкций. PyTorch не отказывается от графов, поскольку они нужны для автоматического дифференцирования, однако он строит их динамически по ходу выполнения программы. В данном случае проводить оптимизации несколько сложнее, однако сама разработка моделей проходит существенно быстрее и комфортнее. \n",
    "\n",
    "TensorFlow 2 является переработкой первой версии: убран лишний и устаревший API, а динамические вычисления (eager execution) теперь являются стандартным поведением TensorFlow. По удобству TensorFlow 2.x не уступает PyTorch, оба фреймворка являются превосходными инструментами для ML специалиста."
   ]
  },
  {
   "cell_type": "markdown",
   "metadata": {},
   "source": [
    "# Установка TensorFlow"
   ]
  },
  {
   "cell_type": "markdown",
   "metadata": {},
   "source": [
    "**Готовый Docker образ:**\n",
    "```\n",
    "docker pull tensorflow/tensorflow:latest-gpu-jupyter\n",
    "docker run --rm -it --gpus all -p 8888:8888 tensorflow/tensorflow:latest-gpu-jupyter\n",
    "```\n",
    "Для корректного запуска данного контейнера на Windows необходима установка [NVIDIA Container Toolkit](https://github.com/NVIDIA/nvidia-docker).\n",
    "\n",
    "**Установка через pip:**\n",
    "\n",
    "TensorFlow 2.x требует Python версии 3.7 и выше.\n",
    "```\n",
    "pip install --upgrade pip\n",
    "pip install tensorflow\n",
    "```\n",
    "\n",
    "\n",
    "Официальная инструкция: \n",
    "https://www.tensorflow.org/install\n",
    "\n",
    "Дабы начать работу с TensorFlow прямо сейчас, можно воспользоваться Google Colab (он имеет предустановленный TF): \n",
    "https://colab.research.google.com/notebooks/welcome.ipynb"
   ]
  },
  {
   "cell_type": "code",
   "execution_count": 1,
   "metadata": {},
   "outputs": [
    {
     "data": {
      "text/plain": [
       "'2.8.0'"
      ]
     },
     "execution_count": 1,
     "metadata": {},
     "output_type": "execute_result"
    }
   ],
   "source": [
    "import tensorflow as tf\n",
    "import numpy as np\n",
    "tf.__version__"
   ]
  },
  {
   "cell_type": "code",
   "execution_count": 2,
   "metadata": {},
   "outputs": [
    {
     "data": {
      "text/plain": [
       "[PhysicalDevice(name='/physical_device:CPU:0', device_type='CPU'),\n",
       " PhysicalDevice(name='/physical_device:GPU:0', device_type='GPU')]"
      ]
     },
     "execution_count": 2,
     "metadata": {},
     "output_type": "execute_result"
    }
   ],
   "source": [
    "tf.config.list_physical_devices()"
   ]
  },
  {
   "cell_type": "markdown",
   "metadata": {},
   "source": [
    "## 1. Основы работы с тензорами"
   ]
  },
  {
   "cell_type": "markdown",
   "metadata": {},
   "source": [
    "### 1.1 Создание tf.Tensor"
   ]
  },
  {
   "cell_type": "markdown",
   "metadata": {},
   "source": [
    "Подобно тензорам (np.ndarray) в Numpy, TensorFlow имеет собственные тензоры tf.Tensor для манипуляции над численными данными. Их можно создать целым рядом функций:\n",
    "- [tf.zeros](https://www.tensorflow.org/api_docs/python/tf/zeros)\n",
    "- [tf.ones](https://www.tensorflow.org/api_docs/python/tf/ones)\n",
    "- [tf.range](https://www.tensorflow.org/api_docs/python/tf/range)\n",
    "- [tf.linspace](https://www.tensorflow.org/api_docs/python/tf/linspace)\n",
    "- [tf.eye](https://www.tensorflow.org/api_docs/python/tf/eye)\n",
    "- [tf.random.normal](https://www.tensorflow.org/api_docs/python/tf/random/normal)\n",
    "- [tf.random.uniform](https://www.tensorflow.org/api_docs/python/tf/random/uniform)\n",
    "- [tf.random.poisson](https://www.tensorflow.org/api_docs/python/tf/random/poisson)\n",
    "\n",
    "Возможно некоторые функции звучат знакомо, поскольку все они доступны также и в Numpy. \n",
    "\n",
    "Чтобы конвертировать существующий np.ndarray в tf.Tensor используется функция [tf.convert_to_tensor](https://www.tensorflow.org/api_docs/python/tf/convert_to_tensor)"
   ]
  },
  {
   "cell_type": "code",
   "execution_count": 3,
   "metadata": {},
   "outputs": [],
   "source": [
    "x_np = np.random.normal(size=(3, 3)).astype('float32')\n",
    "x_tf = tf.convert_to_tensor(x_np)"
   ]
  },
  {
   "cell_type": "code",
   "execution_count": 4,
   "metadata": {},
   "outputs": [
    {
     "data": {
      "text/plain": [
       "array([[ 0.59066963,  0.14386383, -0.22342394],\n",
       "       [ 1.4184464 ,  1.4589547 , -0.24169374],\n",
       "       [ 0.3076973 , -0.2605787 ,  0.73313737]], dtype=float32)"
      ]
     },
     "execution_count": 4,
     "metadata": {},
     "output_type": "execute_result"
    }
   ],
   "source": [
    "x_np"
   ]
  },
  {
   "cell_type": "code",
   "execution_count": 5,
   "metadata": {},
   "outputs": [
    {
     "data": {
      "text/plain": [
       "<tf.Tensor: shape=(3, 3), dtype=float32, numpy=\n",
       "array([[ 0.59066963,  0.14386383, -0.22342394],\n",
       "       [ 1.4184464 ,  1.4589547 , -0.24169374],\n",
       "       [ 0.3076973 , -0.2605787 ,  0.73313737]], dtype=float32)>"
      ]
     },
     "execution_count": 5,
     "metadata": {},
     "output_type": "execute_result"
    }
   ],
   "source": [
    "x_tf"
   ]
  },
  {
   "cell_type": "code",
   "execution_count": 6,
   "metadata": {},
   "outputs": [
    {
     "data": {
      "text/plain": [
       "(numpy.ndarray,\n",
       " tensorflow.python.framework.ops.EagerTensor,\n",
       " dtype('float32'),\n",
       " tf.float32)"
      ]
     },
     "execution_count": 6,
     "metadata": {},
     "output_type": "execute_result"
    }
   ],
   "source": [
    "type(x_np), type(x_tf), x_np.dtype, x_tf.dtype"
   ]
  },
  {
   "cell_type": "code",
   "execution_count": 7,
   "metadata": {},
   "outputs": [
    {
     "data": {
      "text/plain": [
       "array([[ 0.59066963,  0.14386383, -0.22342394],\n",
       "       [ 1.4184464 ,  1.4589547 , -0.24169374],\n",
       "       [ 0.3076973 , -0.2605787 ,  0.73313737]], dtype=float32)"
      ]
     },
     "execution_count": 7,
     "metadata": {},
     "output_type": "execute_result"
    }
   ],
   "source": [
    "# Можно получить значение tf.Tensor в виде np.ndarray\n",
    "x_tf.numpy()"
   ]
  },
  {
   "cell_type": "code",
   "execution_count": 8,
   "metadata": {},
   "outputs": [
    {
     "data": {
      "text/plain": [
       "numpy.ndarray"
      ]
     },
     "execution_count": 8,
     "metadata": {},
     "output_type": "execute_result"
    }
   ],
   "source": [
    "type(x_tf.numpy())"
   ]
  },
  {
   "cell_type": "markdown",
   "metadata": {},
   "source": [
    "### 1.2 Арифметика tf.Tensor"
   ]
  },
  {
   "cell_type": "markdown",
   "metadata": {},
   "source": [
    "Во много tf.Tensor аналогичен np.ndarray: \n",
    "- над ним можно производить все базовые арифметические операции;\n",
    "- индексация и слайсинг;\n",
    "- broadcasting; \n",
    "- манипуляция размерностью, а также конкатенация, транспонирование, решейп и т.д.\n",
    "\n",
    "Если вы уже знакомы с Numpy, вы можете пропустить эту секцию."
   ]
  },
  {
   "cell_type": "code",
   "execution_count": 9,
   "metadata": {},
   "outputs": [],
   "source": [
    "# Умножение на константу"
   ]
  },
  {
   "cell_type": "code",
   "execution_count": 10,
   "metadata": {},
   "outputs": [
    {
     "data": {
      "text/plain": [
       "<tf.Tensor: shape=(3, 3), dtype=float32, numpy=\n",
       "array([[ 1.7720089 ,  0.43159148, -0.6702718 ],\n",
       "       [ 4.255339  ,  4.376864  , -0.7250812 ],\n",
       "       [ 0.9230919 , -0.7817361 ,  2.199412  ]], dtype=float32)>"
      ]
     },
     "execution_count": 10,
     "metadata": {},
     "output_type": "execute_result"
    }
   ],
   "source": [
    "x_tf * 3"
   ]
  },
  {
   "cell_type": "code",
   "execution_count": 11,
   "metadata": {},
   "outputs": [],
   "source": [
    "# Прибавление константы"
   ]
  },
  {
   "cell_type": "code",
   "execution_count": 12,
   "metadata": {},
   "outputs": [
    {
     "data": {
      "text/plain": [
       "<tf.Tensor: shape=(3, 3), dtype=float32, numpy=\n",
       "array([[3.5906696, 3.143864 , 2.776576 ],\n",
       "       [4.4184465, 4.458955 , 2.7583063],\n",
       "       [3.3076973, 2.7394214, 3.7331374]], dtype=float32)>"
      ]
     },
     "execution_count": 12,
     "metadata": {},
     "output_type": "execute_result"
    }
   ],
   "source": [
    "x_tf + 3"
   ]
  },
  {
   "cell_type": "code",
   "execution_count": 13,
   "metadata": {},
   "outputs": [],
   "source": [
    "# Сложение с тензором"
   ]
  },
  {
   "cell_type": "code",
   "execution_count": 14,
   "metadata": {},
   "outputs": [
    {
     "data": {
      "text/plain": [
       "<tf.Tensor: shape=(3, 3), dtype=float32, numpy=\n",
       "array([[ 1.1813393 ,  0.28772765, -0.4468479 ],\n",
       "       [ 2.8368928 ,  2.9179094 , -0.48338747],\n",
       "       [ 0.6153946 , -0.5211574 ,  1.4662747 ]], dtype=float32)>"
      ]
     },
     "execution_count": 14,
     "metadata": {},
     "output_type": "execute_result"
    }
   ],
   "source": [
    "x_tf + x_tf"
   ]
  },
  {
   "cell_type": "code",
   "execution_count": 15,
   "metadata": {},
   "outputs": [],
   "source": [
    "# Умножение на тензор"
   ]
  },
  {
   "cell_type": "code",
   "execution_count": 16,
   "metadata": {},
   "outputs": [
    {
     "data": {
      "text/plain": [
       "<tf.Tensor: shape=(3, 3), dtype=float32, numpy=\n",
       "array([[0.3488906 , 0.0206968 , 0.04991826],\n",
       "       [2.0119903 , 2.1285489 , 0.05841586],\n",
       "       [0.09467763, 0.06790125, 0.5374904 ]], dtype=float32)>"
      ]
     },
     "execution_count": 16,
     "metadata": {},
     "output_type": "execute_result"
    }
   ],
   "source": [
    "x_tf * x_tf"
   ]
  },
  {
   "cell_type": "markdown",
   "metadata": {},
   "source": [
    "TensorFlow позволяет \"перемешивать\" разные тензоры (np.ndarray, list) в арифметических операциях\n",
    "при условии совместимости типов данных и размерностей тензоров."
   ]
  },
  {
   "cell_type": "code",
   "execution_count": 17,
   "metadata": {},
   "outputs": [
    {
     "data": {
      "text/plain": [
       "<tf.Tensor: shape=(3, 3), dtype=float32, numpy=\n",
       "array([[ 1.1813393 ,  0.28772765, -0.4468479 ],\n",
       "       [ 2.8368928 ,  2.9179094 , -0.48338747],\n",
       "       [ 0.6153946 , -0.5211574 ,  1.4662747 ]], dtype=float32)>"
      ]
     },
     "execution_count": 17,
     "metadata": {},
     "output_type": "execute_result"
    }
   ],
   "source": [
    "# Сложение с np.ndarray\n",
    "x_tf + x_np"
   ]
  },
  {
   "cell_type": "code",
   "execution_count": 18,
   "metadata": {},
   "outputs": [
    {
     "data": {
      "text/plain": [
       "<tf.Tensor: shape=(3, 3), dtype=float32, numpy=\n",
       "array([[ 1.9795961 , -4.209689  ,  2.8052785 ],\n",
       "       [ 0.84371513,  4.897768  ,  2.0667038 ],\n",
       "       [ 2.1706696 ,  1.0875921 , -1.1515578 ]], dtype=float32)>"
      ]
     },
     "execution_count": 18,
     "metadata": {},
     "output_type": "execute_result"
    }
   ],
   "source": [
    "# Сложение с list\n",
    "x_tf + [[ 1.3889265, -4.353553 ,  3.0287025],\n",
    "       [-0.5747313,  3.4388134,  2.3083975],\n",
    "       [ 1.8629724,  1.3481708, -1.8846952]]"
   ]
  },
  {
   "cell_type": "markdown",
   "metadata": {},
   "source": [
    "### 1.3 Индексация tf.Tensor"
   ]
  },
  {
   "cell_type": "markdown",
   "metadata": {},
   "source": [
    "tf.Tensor можно индексировать аналогично тому, как это можно делать с тензорами в Numpy."
   ]
  },
  {
   "cell_type": "code",
   "execution_count": 19,
   "metadata": {},
   "outputs": [
    {
     "data": {
      "text/plain": [
       "<tf.Tensor: shape=(3,), dtype=float32, numpy=array([ 0.59066963,  0.14386383, -0.22342394], dtype=float32)>"
      ]
     },
     "execution_count": 19,
     "metadata": {},
     "output_type": "execute_result"
    }
   ],
   "source": [
    "# Простая индексация\n",
    "x_tf[0]"
   ]
  },
  {
   "cell_type": "code",
   "execution_count": 20,
   "metadata": {},
   "outputs": [
    {
     "data": {
      "text/plain": [
       "<tf.Tensor: shape=(), dtype=float32, numpy=0.59066963>"
      ]
     },
     "execution_count": 20,
     "metadata": {},
     "output_type": "execute_result"
    }
   ],
   "source": [
    "x_tf[0, 0]"
   ]
  },
  {
   "cell_type": "code",
   "execution_count": 21,
   "metadata": {},
   "outputs": [
    {
     "data": {
      "text/plain": [
       "<tf.Tensor: shape=(), dtype=float32, numpy=-0.22342394>"
      ]
     },
     "execution_count": 21,
     "metadata": {},
     "output_type": "execute_result"
    }
   ],
   "source": [
    "# Взятие последнего элемента в первой строчке матрицы\n",
    "x_tf[0, -1]"
   ]
  },
  {
   "cell_type": "code",
   "execution_count": 22,
   "metadata": {},
   "outputs": [
    {
     "data": {
      "text/plain": [
       "<tf.Tensor: shape=(1, 3), dtype=float32, numpy=array([[ 1.4184464 ,  1.4589547 , -0.24169374]], dtype=float32)>"
      ]
     },
     "execution_count": 22,
     "metadata": {},
     "output_type": "execute_result"
    }
   ],
   "source": [
    "# Слайсинг\n",
    "x_tf[1:2]"
   ]
  },
  {
   "cell_type": "code",
   "execution_count": 23,
   "metadata": {},
   "outputs": [
    {
     "data": {
      "text/plain": [
       "<tf.Tensor: shape=(2, 3), dtype=float32, numpy=\n",
       "array([[ 1.4184464 ,  1.4589547 , -0.24169374],\n",
       "       [ 0.3076973 , -0.2605787 ,  0.73313737]], dtype=float32)>"
      ]
     },
     "execution_count": 23,
     "metadata": {},
     "output_type": "execute_result"
    }
   ],
   "source": [
    "x_tf[1:]"
   ]
  },
  {
   "cell_type": "code",
   "execution_count": 24,
   "metadata": {},
   "outputs": [
    {
     "data": {
      "text/plain": [
       "<tf.Tensor: shape=(3, 2), dtype=float32, numpy=\n",
       "array([[ 0.14386383, -0.22342394],\n",
       "       [ 1.4589547 , -0.24169374],\n",
       "       [-0.2605787 ,  0.73313737]], dtype=float32)>"
      ]
     },
     "execution_count": 24,
     "metadata": {},
     "output_type": "execute_result"
    }
   ],
   "source": [
    "x_tf[:, 1:]"
   ]
  },
  {
   "cell_type": "markdown",
   "metadata": {},
   "source": [
    "### 1.4 Broadcasting"
   ]
  },
  {
   "cell_type": "markdown",
   "metadata": {},
   "source": [
    "Broadcasting позволяет производить арифметические операции над тензорами разных размерностей. В TensorFlow broadcasting работает подобно broadcasting в Numpy."
   ]
  },
  {
   "cell_type": "code",
   "execution_count": 25,
   "metadata": {},
   "outputs": [
    {
     "name": "stdout",
     "output_type": "stream",
     "text": [
      "tf.Tensor(\n",
      "[[ 0.59066963  0.14386383 -0.22342394]\n",
      " [ 1.4184464   1.4589547  -0.24169374]\n",
      " [ 0.3076973  -0.2605787   0.73313737]], shape=(3, 3), dtype=float32)\n"
     ]
    }
   ],
   "source": [
    "print(x_tf)"
   ]
  },
  {
   "cell_type": "code",
   "execution_count": 26,
   "metadata": {},
   "outputs": [
    {
     "name": "stdout",
     "output_type": "stream",
     "text": [
      "tf.Tensor([ 1.8316137  -0.12416186  0.5447845 ], shape=(3,), dtype=float32)\n"
     ]
    }
   ],
   "source": [
    "x2_tf = tf.random.normal(dtype='float32', shape=(3,))\n",
    "print(x2_tf)"
   ]
  },
  {
   "cell_type": "code",
   "execution_count": 27,
   "metadata": {},
   "outputs": [
    {
     "data": {
      "text/plain": [
       "<tf.Tensor: shape=(3, 3), dtype=float32, numpy=\n",
       "array([[ 2.4222832,  1.9754775,  1.6081897],\n",
       "       [ 1.2942846,  1.3347929, -0.3658556],\n",
       "       [ 0.8524818,  0.2842058,  1.2779219]], dtype=float32)>"
      ]
     },
     "execution_count": 27,
     "metadata": {},
     "output_type": "execute_result"
    }
   ],
   "source": [
    "# Прибавление значений 3-мерного вектора к колонкам матрицы\n",
    "x_tf + tf.reshape(x2_tf, [3, 1])"
   ]
  },
  {
   "cell_type": "code",
   "execution_count": 28,
   "metadata": {},
   "outputs": [
    {
     "data": {
      "text/plain": [
       "<tf.Tensor: shape=(3, 3), dtype=float32, numpy=\n",
       "array([[ 2.4222832 ,  0.01970197,  0.32136053],\n",
       "       [ 3.25006   ,  1.3347929 ,  0.30309075],\n",
       "       [ 2.1393108 , -0.38474056,  1.2779219 ]], dtype=float32)>"
      ]
     },
     "execution_count": 28,
     "metadata": {},
     "output_type": "execute_result"
    }
   ],
   "source": [
    "# Прибавление значений 3-мерного вектора к строкам матрицы\n",
    "x_tf + tf.reshape(x2_tf, [1, 3])"
   ]
  },
  {
   "cell_type": "markdown",
   "metadata": {},
   "source": [
    "Broadcasting является очень мощным, но в то же время непростым инструментом при первом использовании. \n",
    "Больше о broadcasting можно почитать в [мануале Numpy](https://numpy.org/doc/stable/user/basics.broadcasting.html)."
   ]
  },
  {
   "cell_type": "markdown",
   "metadata": {},
   "source": [
    "### 1.5 Манипуляция размерностью, конкатенация тензоров и т.д."
   ]
  },
  {
   "cell_type": "markdown",
   "metadata": {},
   "source": [
    "Для манипуляции размерностью тензоров в TensorFlow имеются следующие функции:\n",
    "- [tf.reshape](https://www.tensorflow.org/api_docs/python/tf/reshape)\n",
    "- [tf.transpose](https://www.tensorflow.org/api_docs/python/tf/transpose)\n",
    "- [tf.expand_dims](https://www.tensorflow.org/api_docs/python/tf/expand_dims)\n",
    "- [tf.squeeze](https://www.tensorflow.org/api_docs/python/tf/squeeze)\n",
    "\n",
    "Выше перечисленные функции, опять-таки, могут показаться знакомыми, поскольку все они присутствуют также и в Numpy.\n",
    "\n",
    "Функции по манипуляции над несколькими тензорами:\n",
    "- [tf.concat](https://www.tensorflow.org/api_docs/python/tf/concat) - аналог np.concatenate\n",
    "- [tf.stack](https://www.tensorflow.org/api_docs/python/tf/stack)\n",
    "- [tf.split](https://www.tensorflow.org/api_docs/python/tf/split)\n",
    "\n",
    "За редким исключением названия функций в TensorFlow отличаются от их аналогов в Numpy (np.concatenate -> tf.concat)."
   ]
  },
  {
   "cell_type": "code",
   "execution_count": 29,
   "metadata": {},
   "outputs": [
    {
     "data": {
      "text/plain": [
       "<tf.Tensor: shape=(9,), dtype=float32, numpy=\n",
       "array([ 0.59066963,  0.14386383, -0.22342394,  1.4184464 ,  1.4589547 ,\n",
       "       -0.24169374,  0.3076973 , -0.2605787 ,  0.73313737], dtype=float32)>"
      ]
     },
     "execution_count": 29,
     "metadata": {},
     "output_type": "execute_result"
    }
   ],
   "source": [
    "tf.reshape(x_tf, 9)"
   ]
  },
  {
   "cell_type": "code",
   "execution_count": 30,
   "metadata": {},
   "outputs": [
    {
     "data": {
      "text/plain": [
       "<tf.Tensor: shape=(9,), dtype=float32, numpy=\n",
       "array([ 0.59066963,  0.14386383, -0.22342394,  1.4184464 ,  1.4589547 ,\n",
       "       -0.24169374,  0.3076973 , -0.2605787 ,  0.73313737], dtype=float32)>"
      ]
     },
     "execution_count": 30,
     "metadata": {},
     "output_type": "execute_result"
    }
   ],
   "source": [
    "tf.reshape(x_tf, -1)"
   ]
  },
  {
   "cell_type": "code",
   "execution_count": 31,
   "metadata": {},
   "outputs": [
    {
     "data": {
      "text/plain": [
       "<tf.Tensor: shape=(1, 1, 9), dtype=float32, numpy=\n",
       "array([[[ 0.59066963,  0.14386383, -0.22342394,  1.4184464 ,\n",
       "          1.4589547 , -0.24169374,  0.3076973 , -0.2605787 ,\n",
       "          0.73313737]]], dtype=float32)>"
      ]
     },
     "execution_count": 31,
     "metadata": {},
     "output_type": "execute_result"
    }
   ],
   "source": [
    "tf.reshape(x_tf, [1, 1, 9])"
   ]
  },
  {
   "cell_type": "code",
   "execution_count": 32,
   "metadata": {},
   "outputs": [
    {
     "data": {
      "text/plain": [
       "<tf.Tensor: shape=(3, 3), dtype=float32, numpy=\n",
       "array([[ 0.59066963,  1.4184464 ,  0.3076973 ],\n",
       "       [ 0.14386383,  1.4589547 , -0.2605787 ],\n",
       "       [-0.22342394, -0.24169374,  0.73313737]], dtype=float32)>"
      ]
     },
     "execution_count": 32,
     "metadata": {},
     "output_type": "execute_result"
    }
   ],
   "source": [
    "# Изменение порядка осей\n",
    "tf.transpose(x_tf, [1, 0])"
   ]
  },
  {
   "cell_type": "code",
   "execution_count": 33,
   "metadata": {},
   "outputs": [
    {
     "data": {
      "text/plain": [
       "<tf.Tensor: shape=(6, 3), dtype=float32, numpy=\n",
       "array([[ 0.59066963,  0.14386383, -0.22342394],\n",
       "       [ 1.4184464 ,  1.4589547 , -0.24169374],\n",
       "       [ 0.3076973 , -0.2605787 ,  0.73313737],\n",
       "       [ 0.59066963,  0.14386383, -0.22342394],\n",
       "       [ 1.4184464 ,  1.4589547 , -0.24169374],\n",
       "       [ 0.3076973 , -0.2605787 ,  0.73313737]], dtype=float32)>"
      ]
     },
     "execution_count": 33,
     "metadata": {},
     "output_type": "execute_result"
    }
   ],
   "source": [
    "tf.concat([x_tf, x_tf], axis=0)"
   ]
  },
  {
   "cell_type": "code",
   "execution_count": 34,
   "metadata": {},
   "outputs": [
    {
     "data": {
      "text/plain": [
       "<tf.Tensor: shape=(3, 6), dtype=float32, numpy=\n",
       "array([[ 0.59066963,  0.14386383, -0.22342394,  0.59066963,  0.14386383,\n",
       "        -0.22342394],\n",
       "       [ 1.4184464 ,  1.4589547 , -0.24169374,  1.4184464 ,  1.4589547 ,\n",
       "        -0.24169374],\n",
       "       [ 0.3076973 , -0.2605787 ,  0.73313737,  0.3076973 , -0.2605787 ,\n",
       "         0.73313737]], dtype=float32)>"
      ]
     },
     "execution_count": 34,
     "metadata": {},
     "output_type": "execute_result"
    }
   ],
   "source": [
    "tf.concat([x_tf, x_tf], axis=1)"
   ]
  },
  {
   "cell_type": "markdown",
   "metadata": {},
   "source": [
    "# 2. Математика в TensorFlow"
   ]
  },
  {
   "cell_type": "markdown",
   "metadata": {},
   "source": [
    "TensorFlow в своей сути является математическим движком, соответственно и математических инструментов в нём более чем достаточно.\n",
    "В данном отношении API TensorFlow во многом следует Numpy:\n",
    "- из корневого пакеты доступны функции \"первой необходимости\":\n",
    "    - унарные функции (`tf.sin`, `tf.exp`, `tf.sqrt` и тд);\n",
    "    - операции редукции (`tf.reduce_sum`, `tf.reduce_mean`; они являются аналогами `np.sum` и `np.mean` соответственно)\n",
    "    - матричное умножение `tf.matmul`"
   ]
  },
  {
   "cell_type": "code",
   "execution_count": 35,
   "metadata": {},
   "outputs": [
    {
     "data": {
      "text/plain": [
       "<tf.Tensor: shape=(3, 3), dtype=float32, numpy=\n",
       "array([[1.8051969 , 1.1547269 , 0.7997757 ],\n",
       "       [4.130698  , 4.301461  , 0.7852966 ],\n",
       "       [1.3602892 , 0.77060556, 2.0816011 ]], dtype=float32)>"
      ]
     },
     "execution_count": 35,
     "metadata": {},
     "output_type": "execute_result"
    }
   ],
   "source": [
    "tf.exp(x_tf)"
   ]
  },
  {
   "cell_type": "code",
   "execution_count": 36,
   "metadata": {},
   "outputs": [
    {
     "data": {
      "text/plain": [
       "<tf.Tensor: shape=(3,), dtype=float32, numpy=array([0.5111095, 2.6357074, 0.780256 ], dtype=float32)>"
      ]
     },
     "execution_count": 36,
     "metadata": {},
     "output_type": "execute_result"
    }
   ],
   "source": [
    "tf.reduce_sum(x_tf, axis=1)"
   ]
  },
  {
   "cell_type": "code",
   "execution_count": 37,
   "metadata": {},
   "outputs": [
    {
     "data": {
      "text/plain": [
       "<tf.Tensor: shape=(3, 3), dtype=float32, numpy=\n",
       "array([[ 0.48420677,  0.35308632, -0.33054116],\n",
       "       [ 2.8329136 ,  2.3955922 , -0.8467298 ],\n",
       "       [ 0.03771491, -0.52694595,  0.53172374]], dtype=float32)>"
      ]
     },
     "execution_count": 37,
     "metadata": {},
     "output_type": "execute_result"
    }
   ],
   "source": [
    "tf.matmul(x_tf, x_tf)"
   ]
  },
  {
   "cell_type": "markdown",
   "metadata": {},
   "source": [
    "Более продвинутые функции можно найти в соответствующих пакета:\n",
    "- [tf.linalg](https://www.tensorflow.org/api_docs/python/tf/linalg) - пакет линейной алгебры;\n",
    "- [tf.math](https://www.tensorflow.org/api_docs/python/tf/math) - пакет с базовыми (логарифм, тригонометрия), булевыми и специальными мат. функциями;\n",
    "- [tf.signal](https://www.tensorflow.org/api_docs/python/tf/signal) - пакет с инструментами обработки сигналов (преобразование Фурье)."
   ]
  },
  {
   "cell_type": "code",
   "execution_count": 38,
   "metadata": {},
   "outputs": [
    {
     "data": {
      "text/plain": [
       "<tf.Tensor: shape=(3, 3), dtype=float32, numpy=\n",
       "array([[ 1.631067  , -0.07656397,  0.47182757],\n",
       "       [-1.8054953 ,  0.8130576 , -0.28218442],\n",
       "       [-1.3262843 ,  0.32111853,  1.0656785 ]], dtype=float32)>"
      ]
     },
     "execution_count": 38,
     "metadata": {},
     "output_type": "execute_result"
    }
   ],
   "source": [
    "# Вычисление обратной матрицы\n",
    "tf.linalg.inv(x_tf)"
   ]
  },
  {
   "cell_type": "code",
   "execution_count": 39,
   "metadata": {},
   "outputs": [
    {
     "data": {
      "text/plain": [
       "<tf.Tensor: shape=(3,), dtype=float32, numpy=array([0.33288038, 0.79231805, 0.40707743], dtype=float32)>"
      ]
     },
     "execution_count": 39,
     "metadata": {},
     "output_type": "execute_result"
    }
   ],
   "source": [
    "tf.math.reduce_std(x_tf, axis=1)"
   ]
  },
  {
   "cell_type": "code",
   "execution_count": 40,
   "metadata": {},
   "outputs": [
    {
     "data": {
      "text/plain": [
       "(<tf.Tensor: shape=(3,), dtype=float32, numpy=array([0.17036982, 0.8785691 , 0.2600853 ], dtype=float32)>,\n",
       " <tf.Tensor: shape=(3,), dtype=float32, numpy=array([0.11080935, 0.6277679 , 0.16571204], dtype=float32)>)"
      ]
     },
     "execution_count": 40,
     "metadata": {},
     "output_type": "execute_result"
    }
   ],
   "source": [
    "# Говоря о статистике, по историческим причинам чаще используют такой вариант\n",
    "mean, var = tf.nn.moments(x_tf, axes=1)\n",
    "mean, var"
   ]
  },
  {
   "cell_type": "markdown",
   "metadata": {},
   "source": [
    "# 3. Автоматическое дифференцирование в TensorFlow"
   ]
  },
  {
   "cell_type": "markdown",
   "metadata": {},
   "source": [
    "TensorFlow может автоматически дифференцировать выражения, эффективно вычисляя градиенты. \n",
    "Однако работает это непохоже на Matlab, поскольку приспособлено в основном для приложений глубого обучения.\n",
    "\n",
    "Градиенты (производные) в TensorFlow считаются посредством [Reverse-Mode Differentiation](https://en.wikipedia.org/wiki/Automatic_differentiation).\n",
    "Описывая в двух словах, данный подход к дифференцированию выражений использует \n",
    "[цепное правило дифференцирования сложной функции](https://ru.wikipedia.org/wiki/%D0%94%D0%B8%D1%84%D1%84%D0%B5%D1%80%D0%B5%D0%BD%D1%86%D0%B8%D1%80%D0%BE%D0%B2%D0%B0%D0%BD%D0%B8%D0%B5_%D1%81%D0%BB%D0%BE%D0%B6%D0%BD%D0%BE%D0%B9_%D1%84%D1%83%D0%BD%D0%BA%D1%86%D0%B8%D0%B8)\n",
    "(chain rule), в котором целевая производная вычисляется как произведение производных\n",
    "промежуточных выражений.\n",
    "\n",
    "Однако понимать математику процесса не нужно, чтобы использовать функции TensorFlow. Всё, что нужно знать: для произвольной скалярной функции f(x) Tensorflow позволяет вычесть градиент df(x)/dx."
   ]
  },
  {
   "cell_type": "code",
   "execution_count": 41,
   "metadata": {},
   "outputs": [
    {
     "name": "stdout",
     "output_type": "stream",
     "text": [
      "Градиент обучаемой переменной: tf.Tensor(6.0, shape=(), dtype=float32)\n",
      "Градиент необучаемой переменной: None\n"
     ]
    }
   ],
   "source": [
    "# Пример вычисления производной функции y = x^2\n",
    "\n",
    "def f(x):\n",
    "    return x ** 2\n",
    "\n",
    "x = tf.Variable(3.0)\n",
    "x2 = tf.Variable(3.0, trainable=False)\n",
    "\n",
    "# Посчитаем градиент для \"обучаемой переменной\"\n",
    "with tf.GradientTape() as tape:\n",
    "    y = f(x)\n",
    "    grad = tape.gradient(y, x)\n",
    "\n",
    "print(\"Градиент обучаемой переменной:\", grad)\n",
    "\n",
    "# Посчитаем градиент для \"необучаемой переменной\"\n",
    "with tf.GradientTape() as tape:\n",
    "    y = f(x2)\n",
    "    grad = tape.gradient(y, x2)\n",
    "\n",
    "print(\"Градиент необучаемой переменной:\", grad)"
   ]
  },
  {
   "cell_type": "markdown",
   "metadata": {},
   "source": [
    "Выше можно увидеть два нововведения: **tf.Variable** (переменная) и **tf.GradientTape**.\n",
    "\n",
    "tf.Variable по сути является тензором, значение которого можно модифицировать \n",
    "(как обычный np.ndarray). Именно переменные используется для хранения весов нейронной сети.\n",
    "\n",
    "tf.GradientTape является контекстным менеджером, внутри контекста которого TensorFlow \"записывает\" все вычисления на ленту (tape), \n",
    "а далее использует записанную информацию для вычисления производных посредством алгоритма обратного распространения.\n",
    "Важно: **tf.GradientTape не может вычислять градиенты выражений, что были посчитаны вне его контекста!**"
   ]
  },
  {
   "cell_type": "code",
   "execution_count": 42,
   "metadata": {},
   "outputs": [
    {
     "name": "stdout",
     "output_type": "stream",
     "text": [
      "None\n"
     ]
    }
   ],
   "source": [
    "x = tf.constant(3.0)\n",
    "y = f(x)\n",
    "with tf.GradientTape() as tape:\n",
    "    # y было вычислено вне контекста tape,\n",
    "    # поэтому tape не может посчитать какой-либо градиент для y\n",
    "    grad = tape.gradient(y, x)\n",
    "\n",
    "print(grad)"
   ]
  },
  {
   "cell_type": "code",
   "execution_count": 43,
   "metadata": {},
   "outputs": [
    {
     "name": "stdout",
     "output_type": "stream",
     "text": [
      "None\n"
     ]
    }
   ],
   "source": [
    "# GradientTape по умолчанию не считает градиенты для обычных тензоров\n",
    "x = tf.constant(3.0)\n",
    "\n",
    "with tf.GradientTape() as tape:\n",
    "    y = f(x)\n",
    "    grad = tape.gradient(y, x)\n",
    "\n",
    "print(grad)"
   ]
  },
  {
   "cell_type": "code",
   "execution_count": 44,
   "metadata": {},
   "outputs": [
    {
     "name": "stdout",
     "output_type": "stream",
     "text": [
      "tf.Tensor(6.0, shape=(), dtype=float32)\n"
     ]
    }
   ],
   "source": [
    "# Но его можно заставить\n",
    "x = tf.constant(3.0)\n",
    "\n",
    "with tf.GradientTape() as tape:\n",
    "    # Указывает tape \"следить\" за тензором \n",
    "    tape.watch(x)\n",
    "    y = f(x)\n",
    "    grad = tape.gradient(y, x)\n",
    "\n",
    "print(grad)"
   ]
  },
  {
   "cell_type": "markdown",
   "metadata": {},
   "source": [
    "Более сложный пример: вычисление градиента весов логистической регрессии"
   ]
  },
  {
   "cell_type": "code",
   "execution_count": 46,
   "metadata": {},
   "outputs": [
    {
     "name": "stdout",
     "output_type": "stream",
     "text": [
      "Out: [[5.8282370e-04 1.9058656e-06 1.3143158e-01 2.0507334e-06 8.6131585e-01\n",
      "  6.6499999e-03 9.2988291e-12 1.5799737e-05 5.7696648e-13 2.0625839e-10]]\n",
      "Loss before gradient update: 28.180992\n",
      "Grad W: [[ 7.4684387e-04  2.4422206e-06  1.6841950e-01 ...  2.0246151e-05\n",
      "  -1.2814233e+00  2.6430430e-10]\n",
      " [-6.5460760e-04 -2.1406029e-06 -1.4761944e-01 ... -1.7745722e-05\n",
      "   1.1231657e+00 -2.3166236e-10]\n",
      " [ 2.6824832e-04  8.7718672e-07  6.0492218e-02 ...  7.2719290e-06\n",
      "  -4.6025634e-01  9.4931729e-11]\n",
      " ...\n",
      " [-9.9156913e-04 -3.2424855e-06 -2.2360706e-01 ... -2.6880394e-05\n",
      "   1.7013191e+00 -3.5091133e-10]\n",
      " [-4.9220258e-04 -1.6095296e-06 -1.1099577e-01 ... -1.3343094e-05\n",
      "   8.4451371e-01 -1.7418804e-10]\n",
      " [-5.7030935e-04 -1.8649429e-06 -1.2860948e-01 ... -1.5460484e-05\n",
      "   9.7852802e-01 -2.0182961e-10]]\n",
      "Grad b: [ 5.8282370e-04  1.9058656e-06  1.3143158e-01  2.0507334e-06\n",
      "  8.6131585e-01  6.6499999e-03  9.2988291e-12  1.5799737e-05\n",
      " -1.0000000e+00  2.0625839e-10]\n",
      "Loss after gradient update: 12.726484\n"
     ]
    }
   ],
   "source": [
    "N_INPUT_FEATURES = 128\n",
    "N_CLASSES = 10\n",
    "\n",
    "# Веса логистической регресии\n",
    "w = tf.Variable(tf.random.normal((N_INPUT_FEATURES, N_CLASSES)))\n",
    "b = tf.Variable(tf.zeros((N_CLASSES)))\n",
    "\n",
    "\n",
    "def logistic_regression(x, w, b):\n",
    "    x = tf.matmul(x, w) + b[None, :]  # аналогично tf.expand_dims(b, axis=0)\n",
    "    return tf.nn.softmax(x)\n",
    "\n",
    "\n",
    "def loss(out, i):\n",
    "    # out - выходное значение логистической регрессии\n",
    "    # i - номер класса, которому принадлежит экземпляр\n",
    "    l = tf.math.log(out)[:, i]\n",
    "    return -tf.reduce_mean(l)\n",
    "\n",
    "\n",
    "x = tf.random.normal((1, N_INPUT_FEATURES))  # условный экземпляр данных из датасета\n",
    "# x.shape - [batch_size, n_features]\n",
    "i = 8  # номер класса, которому принадлежит экземпляр\n",
    "\n",
    "with tf.GradientTape() as tape:\n",
    "    out = logistic_regression(x, w, b)\n",
    "    print('Out:', out.numpy())\n",
    "    loss_val = loss(out, i)\n",
    "    print('Loss before gradient update:', loss_val.numpy())\n",
    "    # grads = [grad_w, grad_b]\n",
    "    grads = tape.gradient(loss_val, [w, b])\n",
    "\n",
    "print('Grad W:', grads[0].numpy())\n",
    "print('Grad b:', grads[1].numpy())\n",
    "\n",
    "# Модифицируем значение весов и посчитает значение функции ошибки\n",
    "\n",
    "w.assign_sub(grads[0] * 0.1)\n",
    "b.assign_sub(grads[1] * 0.1)\n",
    "\n",
    "y = logistic_regression(x, w, b)\n",
    "l = loss(y, i)\n",
    "\n",
    "# Обратите внимание, что значение ошибки уменьшилось. Именно так и работает машинное обучение\n",
    "print('Loss after gradient update:', l.numpy())"
   ]
  },
  {
   "cell_type": "markdown",
   "metadata": {},
   "source": [
    "Больше информации об автоматическом дифференцировании можно найти на [официальном сайте TensorFlow](https://www.tensorflow.org/guide/autodiff)."
   ]
  }
 ],
 "metadata": {
  "kernelspec": {
   "display_name": "Python 3",
   "language": "python",
   "name": "python3"
  },
  "language_info": {
   "codemirror_mode": {
    "name": "ipython",
    "version": 3
   },
   "file_extension": ".py",
   "mimetype": "text/x-python",
   "name": "python",
   "nbconvert_exporter": "python",
   "pygments_lexer": "ipython3",
   "version": "3.8.5"
  }
 },
 "nbformat": 4,
 "nbformat_minor": 5
}
