{
 "cells": [
  {
   "cell_type": "markdown",
   "metadata": {},
   "source": [
    "# Построение и обучение моделей в TensorFlow"
   ]
  },
  {
   "cell_type": "markdown",
   "metadata": {},
   "source": [
    "Автор лекции: [Килбас Игорь](https://github.com/oKatanaaa)"
   ]
  },
  {
   "cell_type": "markdown",
   "metadata": {},
   "source": [
    "В предыдущей лекции был рассмотрен низкоуровневый АПИ TensorFlow. Была построена и обучения модель, используя самые базовые инструменты. В данной лекции будет введен целый ряд новых инструментов в библиотеке TensorFlow, что сильно упрощают построение и обучение моделей. Будут рассмотрены:\n",
    "1. [tf.data АПИ](https://www.tensorflow.org/guide/data) и в частности tf.data.Dataset - инструменты работы с датасетами;\n",
    "2. [Keras](https://keras.io/about/) - инструменты для построения и обучения модели."
   ]
  },
  {
   "cell_type": "markdown",
   "metadata": {},
   "source": [
    "# 2. Высокоуровневый АПИ + Keras"
   ]
  },
  {
   "cell_type": "markdown",
   "metadata": {},
   "source": [
    "## 2.1 Датасеты в TensorFlow"
   ]
  },
  {
   "cell_type": "markdown",
   "metadata": {},
   "source": [
    "Ранее вручную был написан весь код для итерации по датасету. Если придется добавлять какую-либо агументацию данных, то задача сильно усложнится. В данной лекции будет показано, как использовать готовые TensorFlow инструменты при работе с данными.\n",
    "\n",
    "Ключевой сущностью при работе с датасетами в TensorFlow является [tf.data.Dataset](https://www.tensorflow.org/api_docs/python/tf/data/Dataset). Создадим датасет из набора Mnist."
   ]
  },
  {
   "cell_type": "code",
   "execution_count": 1,
   "metadata": {},
   "outputs": [],
   "source": [
    "import numpy as np\n",
    "import tensorflow as tf\n",
    "from tensorflow.keras.datasets import mnist"
   ]
  },
  {
   "cell_type": "code",
   "execution_count": 2,
   "metadata": {},
   "outputs": [],
   "source": [
    "(x_train, y_train), (x_test, y_test) = mnist.load_data()"
   ]
  },
  {
   "cell_type": "code",
   "execution_count": 3,
   "metadata": {},
   "outputs": [],
   "source": [
    "train_dataset = tf.data.Dataset.from_tensor_slices((x_train, y_train))"
   ]
  },
  {
   "cell_type": "markdown",
   "metadata": {},
   "source": [
    "tf.data.Dataset работает как [питоновский генератор](https://skillbox.ru/media/code/generatory_python_chto_eto_takoe_i_zachem_oni_nuzhny/). Попробуем получить один элемент из датасета."
   ]
  },
  {
   "cell_type": "code",
   "execution_count": 4,
   "metadata": {},
   "outputs": [],
   "source": [
    "# Получим итератор\n",
    "data_iter = iter(train_dataset)\n",
    "\n",
    "# Получим одну пару (картинка, метка)\n",
    "x, y = next(data_iter)"
   ]
  },
  {
   "cell_type": "code",
   "execution_count": 5,
   "metadata": {},
   "outputs": [
    {
     "data": {
      "text/plain": [
       "(TensorShape([28, 28]),\n",
       " TensorShape([]),\n",
       " tensorflow.python.framework.ops.EagerTensor,\n",
       " tensorflow.python.framework.ops.EagerTensor)"
      ]
     },
     "execution_count": 5,
     "metadata": {},
     "output_type": "execute_result"
    }
   ],
   "source": [
    "# Заметьте, что итератор возвратил TensorFlow тензоры, а не Numpy массивы \n",
    "x.shape, y.shape, type(x), type(y)"
   ]
  },
  {
   "cell_type": "markdown",
   "metadata": {},
   "source": [
    "tf.data.Dataset имеет множество полезных методов, однако наиболее часто используемые из них:\n",
    "1. batch(n) - говорит датасету собирать батчи размера `n` вместо итерации по отдельным экземплярам;\n",
    "2. map(fn) - говорит датасету применять `fn` к элементам датасета;\n",
    "3. prefetch(n) - говорит датасету постоянно подготавливать `n` элементов в буфере. Это позволяет утилизировать время простоя CPU, когда все вычисления происходят на GPU, что ускоряет загрузку данных;\n",
    "4. shuffle(n) - говорит датасету создать буффер на `n` элементов, перемешивать его и в дальнейшем черпать элементы из него."
   ]
  },
  {
   "cell_type": "code",
   "execution_count": 6,
   "metadata": {},
   "outputs": [
    {
     "data": {
      "text/plain": [
       "TensorShape([128, 28, 28])"
      ]
     },
     "execution_count": 6,
     "metadata": {},
     "output_type": "execute_result"
    }
   ],
   "source": [
    "# Вызов методов создаёт новый объект датасета, а не модифицирует исходный!\n",
    "train_dataset = train_dataset.shuffle(buffer_size=len(x_train), reshuffle_each_iteration=True)\n",
    "\n",
    "# drop_remainder=True говорит датасету не возвращать оставшийся кусок данных, если в нем содержится меньше 128 элементов\n",
    "train_dataset = train_dataset.batch(128, drop_remainder=True)\n",
    "\n",
    "next(iter(train_dataset))[0].shape"
   ]
  },
  {
   "cell_type": "code",
   "execution_count": 7,
   "metadata": {},
   "outputs": [],
   "source": [
    "def normalize(x, y):\n",
    "    x = tf.cast(x, dtype='float32')\n",
    "    x = x / 255.\n",
    "    return x, y\n",
    "\n",
    "\n",
    "def reshape(x, y):\n",
    "    x = tf.reshape(x, shape=[-1, 28*28])\n",
    "    return x, y"
   ]
  },
  {
   "cell_type": "code",
   "execution_count": 8,
   "metadata": {},
   "outputs": [
    {
     "data": {
      "text/plain": [
       "TensorShape([128, 784])"
      ]
     },
     "execution_count": 8,
     "metadata": {},
     "output_type": "execute_result"
    }
   ],
   "source": [
    "# Трансформации могут применяться параллельно на нескольких элементах!\n",
    "train_dataset = train_dataset.map(normalize, num_parallel_calls=-1)\n",
    "train_dataset = train_dataset.map(reshape, num_parallel_calls=-1)\n",
    "# Говорит датасету всегда иметь на готове 8 батчей\n",
    "train_dataset = train_dataset.prefetch(8)\n",
    "\n",
    "next(iter(train_dataset))[0].shape"
   ]
  },
  {
   "cell_type": "markdown",
   "metadata": {},
   "source": [
    "Метод map можно было вызвать и до метода batch, одна в данном случае функции будут принимать на вход отдельные экземпляры. Это менее эффективно, нежели обработка целых батчей, поскольку в их случае возможно векторизация вычислений.\n",
    "\n",
    "Некоторые могут задаться вопросом: зачем нормализацию и решейп выводить в отдельные трансформации, что применяются во время итерации по датасету? На практике так действительно не делают, обычно нормализация и прочие трансформации, что можно сделать заранее, делают заранее, дабы не тратить вычислительные ресурсы впустую. Однако в данном случае так сделано, чтобы продемонстрировать работу АПИ."
   ]
  },
  {
   "cell_type": "markdown",
   "metadata": {},
   "source": [
    "Далее готовый датасет используют в качестве итератора в цикле. Ниже приведен пример."
   ]
  },
  {
   "cell_type": "code",
   "execution_count": 9,
   "metadata": {},
   "outputs": [
    {
     "name": "stdout",
     "output_type": "stream",
     "text": [
      "Epoch: 0\n",
      "Epoch: 1\n",
      "Epoch: 2\n",
      "Epoch: 3\n",
      "Epoch: 4\n"
     ]
    }
   ],
   "source": [
    "EPOCHS = 5\n",
    "for epoch in range(EPOCHS):\n",
    "    for x_batch, y_batch in train_dataset:\n",
    "        # do something 1\n",
    "        # do something 2\n",
    "        pass\n",
    "    print('Epoch:', epoch)"
   ]
  },
  {
   "cell_type": "markdown",
   "metadata": {},
   "source": [
    "Цикл заканчивает свою работу после того, как датасет исчерпал все данные. В данном случае после каждой эпохи датасет автоматически производит перемешивание данных."
   ]
  },
  {
   "cell_type": "code",
   "execution_count": 10,
   "metadata": {},
   "outputs": [
    {
     "data": {
      "text/plain": [
       "TensorShape([128, 784])"
      ]
     },
     "execution_count": 10,
     "metadata": {},
     "output_type": "execute_result"
    }
   ],
   "source": [
    "# Создадим также датасет для тестирования модели\n",
    "test_dataset = tf.data.Dataset.from_tensor_slices((x_test, y_test))\n",
    "\n",
    "# drop_remainder в данном случае не установлен, поскольку мы хотим протестировать модель на всех экземплярах данных.\n",
    "# Почему drop_remainder использовался выше? Опять-таки, для демонстрации, что это есть\n",
    "test_dataset = test_dataset.batch(128)\n",
    "test_dataset = test_dataset.map(normalize, num_parallel_calls=-1)\n",
    "test_dataset = test_dataset.map(reshape, num_parallel_calls=-1)\n",
    "\n",
    "next(iter(test_dataset))[0].shape"
   ]
  },
  {
   "cell_type": "markdown",
   "metadata": {},
   "source": [
    "## 2.2 Построение моделей в Keras"
   ]
  },
  {
   "cell_type": "markdown",
   "metadata": {},
   "source": [
    "Keras представляет собой набор готовых строительных блоков для построения, обучения и профилирования моделей. Существует три подхода к построению моделей в Keras:\n",
    "1. [Sequential](https://www.tensorflow.org/guide/keras/sequential_model);\n",
    "2. [Functional](https://www.tensorflow.org/guide/keras/functional);\n",
    "3. [Наследование от Model](https://www.tensorflow.org/guide/keras/custom_layers_and_models) - рекомендуемый подход!\n",
    "\n",
    "В данной лекции будет рассмотрен третий подход, поскольку он наиболее универсален и удобен в общем случае. При написании моделей в виде отдельных модулей и классов, код становится куда более читабельным и легко поддерживаемым."
   ]
  },
  {
   "cell_type": "markdown",
   "metadata": {},
   "source": [
    "### 2.2.1 Layer"
   ]
  },
  {
   "cell_type": "markdown",
   "metadata": {},
   "source": [
    "Рассмотрим пример создания слоя в Keras."
   ]
  },
  {
   "cell_type": "code",
   "execution_count": 11,
   "metadata": {},
   "outputs": [],
   "source": [
    "import tensorflow.keras as K\n",
    "import tensorflow.keras.layers as L"
   ]
  },
  {
   "cell_type": "code",
   "execution_count": 12,
   "metadata": {},
   "outputs": [],
   "source": [
    "class LinearReLU(L.Layer):\n",
    "    def __init__(self, out_d, name=None):\n",
    "        super().__init__(name=name)\n",
    "        self.linear = L.Dense(units=out_d)\n",
    "        self.relu = L.ReLU()\n",
    "    \n",
    "    def call(self, x):\n",
    "        x = self.linear(x)\n",
    "        # Можно также использовать и tf.nn.relu\n",
    "        return self.relu(x)"
   ]
  },
  {
   "cell_type": "code",
   "execution_count": 13,
   "metadata": {},
   "outputs": [],
   "source": [
    "# Заметьте, что этому слою не нужно предоставлять информацию в размерности входных данных.\n",
    "# Слои в Keras получат информацию о размерности данных во время первого вызова\n",
    "linear_relu = LinearReLU(10)"
   ]
  },
  {
   "cell_type": "code",
   "execution_count": 14,
   "metadata": {},
   "outputs": [
    {
     "name": "stdout",
     "output_type": "stream",
     "text": [
      "0\n"
     ]
    }
   ],
   "source": [
    "# Весов пока что нет\n",
    "print(len(linear_relu.variables))"
   ]
  },
  {
   "cell_type": "code",
   "execution_count": 15,
   "metadata": {},
   "outputs": [
    {
     "data": {
      "text/plain": [
       "(<keras.layers.core.dense.Dense at 0x7fc21013afa0>,\n",
       " <keras.layers.advanced_activations.ReLU at 0x7fc21012f0a0>)"
      ]
     },
     "execution_count": 15,
     "metadata": {},
     "output_type": "execute_result"
    }
   ],
   "source": [
    "# Модули\n",
    "linear_relu.submodules"
   ]
  },
  {
   "cell_type": "code",
   "execution_count": 16,
   "metadata": {},
   "outputs": [
    {
     "data": {
      "text/plain": [
       "<tf.Tensor: shape=(1, 10), dtype=float32, numpy=\n",
       "array([[0.        , 0.58302677, 0.        , 0.        , 0.        ,\n",
       "        0.48989415, 0.9036249 , 0.        , 0.30232066, 0.744071  ]],\n",
       "      dtype=float32)>"
      ]
     },
     "execution_count": 16,
     "metadata": {},
     "output_type": "execute_result"
    }
   ],
   "source": [
    "# При первом вызове слои инициализируют свои веса, используя информацию\n",
    "# о размерности входных тензоров.\n",
    "linear_relu(np.random.randn(1, 10).astype('float32'))"
   ]
  },
  {
   "cell_type": "code",
   "execution_count": 17,
   "metadata": {},
   "outputs": [
    {
     "name": "stdout",
     "output_type": "stream",
     "text": [
      "2\n"
     ]
    }
   ],
   "source": [
    "# Теперь веса есть.\n",
    "print(len(linear_relu.variables))"
   ]
  },
  {
   "cell_type": "markdown",
   "metadata": {},
   "source": [
    "### 2.2.1 Model"
   ]
  },
  {
   "cell_type": "markdown",
   "metadata": {},
   "source": [
    "Построим аналогичную модель, используя Keras"
   ]
  },
  {
   "cell_type": "code",
   "execution_count": 18,
   "metadata": {},
   "outputs": [],
   "source": [
    "class NN(K.Model):\n",
    "    def __init__(self, dim=256, n_classes=10, name='neural_network'):\n",
    "        super().__init__(name=name)\n",
    "        self.input_layer = L.Dense(units=dim, activation='relu', name='input')\n",
    "        self.classification_head = L.Dense(units=n_classes)\n",
    "    \n",
    "    def call(self, x, training=True):\n",
    "        x = self.input_layer(x, training=training)\n",
    "        x = self.classification_head(x, training=training)\n",
    "        return tf.nn.softmax(x)"
   ]
  },
  {
   "cell_type": "markdown",
   "metadata": {},
   "source": [
    "В данном случае модель очень простая и не требует написания отдельных слоёв/модулей. Однако в случае более крупных моделей **настоятельно рекомендуется** разбивать их на модули, что наследуются от класса L.Layer, а после скомпоновать их в класс модели. В этом случае другим программистам становится гораздо легче понять, как модель работает, и внести в неё свои изменения."
   ]
  },
  {
   "cell_type": "code",
   "execution_count": 19,
   "metadata": {},
   "outputs": [],
   "source": [
    "model = NN()"
   ]
  },
  {
   "cell_type": "code",
   "execution_count": 20,
   "metadata": {},
   "outputs": [],
   "source": [
    "x = next(iter(train_dataset))[0]"
   ]
  },
  {
   "cell_type": "code",
   "execution_count": 21,
   "metadata": {},
   "outputs": [
    {
     "data": {
      "text/plain": [
       "<tf.Tensor: shape=(128, 10), dtype=float32, numpy=\n",
       "array([[0.06959938, 0.13837601, 0.0652037 , ..., 0.18263756, 0.13797113,\n",
       "        0.04636167],\n",
       "       [0.11483506, 0.07217523, 0.07887861, ..., 0.1316258 , 0.11827304,\n",
       "        0.15272087],\n",
       "       [0.10576901, 0.1021277 , 0.09075059, ..., 0.14534797, 0.15855393,\n",
       "        0.05801513],\n",
       "       ...,\n",
       "       [0.10754609, 0.06834304, 0.10351732, ..., 0.08484785, 0.15298633,\n",
       "        0.08085035],\n",
       "       [0.08990663, 0.07580603, 0.0956449 , ..., 0.07905133, 0.12985934,\n",
       "        0.18590708],\n",
       "       [0.08892912, 0.12196412, 0.08968204, ..., 0.10086968, 0.09967561,\n",
       "        0.09853969]], dtype=float32)>"
      ]
     },
     "execution_count": 21,
     "metadata": {},
     "output_type": "execute_result"
    }
   ],
   "source": [
    "model(x)"
   ]
  },
  {
   "cell_type": "markdown",
   "metadata": {},
   "source": [
    "## 2.3 Обучение моделей в Keras"
   ]
  },
  {
   "cell_type": "markdown",
   "metadata": {},
   "source": [
    "Обучение моделей в Keras довольно тривиально и сводится к вызову метода fit. Данный метод уже содержит внутри себя реализованную функцию одного обучающего шага (метод train_step), а также обучающий цикл. Пользователю нужно лишь задать функцию ошибки и метрики. Благо Keras уже содержит заранее заготовленные примеры оных:\n",
    "- [tf.keras.losses](https://www.tensorflow.org/api_docs/python/tf/keras/losses);\n",
    "- [tf.keras.metrics](https://www.tensorflow.org/api_docs/python/tf/keras/metrics)."
   ]
  },
  {
   "cell_type": "code",
   "execution_count": 22,
   "metadata": {},
   "outputs": [],
   "source": [
    "loss = K.losses.SparseCategoricalCrossentropy()\n",
    "accuracy = K.metrics.SparseCategoricalAccuracy()\n",
    "optim = tf.optimizers.Adam()\n",
    "\n",
    "EPOCHS = 5"
   ]
  },
  {
   "cell_type": "code",
   "execution_count": 23,
   "metadata": {},
   "outputs": [],
   "source": [
    "model.compile(optimizer=optim, loss=loss, metrics=[accuracy])"
   ]
  },
  {
   "cell_type": "code",
   "execution_count": 24,
   "metadata": {},
   "outputs": [
    {
     "name": "stdout",
     "output_type": "stream",
     "text": [
      "Epoch 1/5\n",
      "468/468 [==============================] - 3s 6ms/step - loss: 0.3104 - sparse_categorical_accuracy: 0.9136 - val_loss: 0.1627 - val_sparse_categorical_accuracy: 0.9535\n",
      "Epoch 2/5\n",
      "468/468 [==============================] - 3s 5ms/step - loss: 0.1358 - sparse_categorical_accuracy: 0.9607 - val_loss: 0.1159 - val_sparse_categorical_accuracy: 0.9665\n",
      "Epoch 3/5\n",
      "468/468 [==============================] - 2s 5ms/step - loss: 0.0923 - sparse_categorical_accuracy: 0.9730 - val_loss: 0.0886 - val_sparse_categorical_accuracy: 0.9719\n",
      "Epoch 4/5\n",
      "468/468 [==============================] - 3s 5ms/step - loss: 0.0672 - sparse_categorical_accuracy: 0.9803 - val_loss: 0.0808 - val_sparse_categorical_accuracy: 0.9744\n",
      "Epoch 5/5\n",
      "468/468 [==============================] - 3s 5ms/step - loss: 0.0517 - sparse_categorical_accuracy: 0.9852 - val_loss: 0.0744 - val_sparse_categorical_accuracy: 0.9763\n"
     ]
    }
   ],
   "source": [
    "info = model.fit(train_dataset, epochs=EPOCHS, validation_data=test_dataset)"
   ]
  },
  {
   "cell_type": "markdown",
   "metadata": {},
   "source": [
    "Во время обучения Keras показывает информацию о значении функции ошибки и точности на обучающей выборке. Каждую эпоху Keras тестирует модель, вычисляя значение переданных метрик.\n",
    "\n",
    "Метод .fit возвращает объект с историей обучения, в котором содержатся значения функции ошибки, метрики и т.д."
   ]
  },
  {
   "cell_type": "code",
   "execution_count": null,
   "metadata": {},
   "outputs": [],
   "source": []
  },
  {
   "cell_type": "code",
   "execution_count": 25,
   "metadata": {},
   "outputs": [
    {
     "data": {
      "text/plain": [
       "<matplotlib.legend.Legend at 0x7fc1881d88b0>"
      ]
     },
     "execution_count": 25,
     "metadata": {},
     "output_type": "execute_result"
    },
    {
     "data": {
      "image/png": "[encoded data removed]",
      "text/plain": [
       "<Figure size 432x288 with 1 Axes>"
      ]
     },
     "metadata": {
      "needs_background": "light"
     },
     "output_type": "display_data"
    }
   ],
   "source": [
    "import matplotlib.pyplot as plt\n",
    "%matplotlib inline\n",
    "\n",
    "plt.plot(info.history['loss'], label='loss')\n",
    "plt.plot(info.history['sparse_categorical_accuracy'], label='accuracy')\n",
    "plt.legend()"
   ]
  },
  {
   "cell_type": "code",
   "execution_count": 26,
   "metadata": {},
   "outputs": [
    {
     "name": "stdout",
     "output_type": "stream",
     "text": [
      "79/79 [==============================] - 1s 7ms/step - loss: 0.0744 - sparse_categorical_accuracy: 0.9763\n"
     ]
    },
    {
     "data": {
      "text/plain": [
       "[0.07440932095050812, 0.9763000011444092]"
      ]
     },
     "execution_count": 26,
     "metadata": {},
     "output_type": "execute_result"
    }
   ],
   "source": [
    "# Также есть отдельный метод для тестирования\n",
    "model.evaluate(test_dataset)"
   ]
  },
  {
   "cell_type": "markdown",
   "metadata": {},
   "source": [
    "Keras очень сильно абстрагирует код и позволяет сфокусироваться на самой модели и её обучении, опуская детали реализации. Однако при желании можно кастомизировать отдельные компоненты, такие как [шаг обучения или тестирование модели](https://keras.io/guides/customizing_what_happens_in_fit/)."
   ]
  },
  {
   "cell_type": "markdown",
   "metadata": {},
   "source": [
    "## 2.4 Сохранение моделей в Keras"
   ]
  },
  {
   "cell_type": "markdown",
   "metadata": {},
   "source": [
    "Сохранение и загрузка моделей в Keras тривиальны."
   ]
  },
  {
   "cell_type": "code",
   "execution_count": 27,
   "metadata": {},
   "outputs": [
    {
     "name": "stdout",
     "output_type": "stream",
     "text": [
      "INFO:tensorflow:Assets written to: keras-model/assets\n"
     ]
    }
   ],
   "source": [
    "model.save('keras-model')"
   ]
  },
  {
   "cell_type": "code",
   "execution_count": 28,
   "metadata": {},
   "outputs": [],
   "source": [
    "model2 = K.models.load_model('keras-model')"
   ]
  },
  {
   "cell_type": "code",
   "execution_count": 29,
   "metadata": {},
   "outputs": [
    {
     "name": "stdout",
     "output_type": "stream",
     "text": [
      "79/79 [==============================] - 1s 5ms/step - loss: 0.0744 - sparse_categorical_accuracy: 0.9763\n"
     ]
    },
    {
     "data": {
      "text/plain": [
       "[0.07440954446792603, 0.9763000011444092]"
      ]
     },
     "execution_count": 29,
     "metadata": {},
     "output_type": "execute_result"
    }
   ],
   "source": [
    "model2.evaluate(test_dataset)"
   ]
  }
 ],
 "metadata": {
  "kernelspec": {
   "display_name": "Python 3",
   "language": "python",
   "name": "python3"
  },
  "language_info": {
   "codemirror_mode": {
    "name": "ipython",
    "version": 3
   },
   "file_extension": ".py",
   "mimetype": "text/x-python",
   "name": "python",
   "nbconvert_exporter": "python",
   "pygments_lexer": "ipython3",
   "version": "3.8.5"
  }
 },
 "nbformat": 4,
 "nbformat_minor": 2
}
