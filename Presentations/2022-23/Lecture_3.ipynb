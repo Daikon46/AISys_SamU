{
 "cells": [
  {
   "cell_type": "code",
   "execution_count": 1,
   "id": "753d746a",
   "metadata": {},
   "outputs": [],
   "source": [
    "import numpy as np\n"
   ]
  },
  {
   "cell_type": "code",
   "execution_count": 2,
   "id": "a0449fde",
   "metadata": {},
   "outputs": [],
   "source": [
    "def softmax(s, y):\n",
    "    l_i = -np.log(np.exp(s[y])/sum(np.exp(s)))\n",
    "    return l_i\n",
    "\n",
    "\n",
    "\n",
    "def svm(s, y):\n",
    "    m = np.maximum(np.zeros_like(s), s - s[y] + 1)\n",
    "    m[y] = 0   \n",
    "    l_i = np.sum(m)\n",
    "    return l_i"
   ]
  },
  {
   "cell_type": "code",
   "execution_count": 3,
   "id": "7531b4de",
   "metadata": {},
   "outputs": [],
   "source": [
    "s = np.array([[10, -2, 3],\n",
    "              [10, 9, 9],\n",
    "              [10, -100, -100]])\n",
    "\n",
    "y = 0\n"
   ]
  },
  {
   "cell_type": "code",
   "execution_count": 4,
   "id": "c1bf4f3b",
   "metadata": {
    "scrolled": true
   },
   "outputs": [
    {
     "name": "stdout",
     "output_type": "stream",
     "text": [
      "softmax:\n",
      "\n",
      "0.0009176050495943237\n",
      "0.5514447139320511\n",
      "-0.0\n",
      "Loss Function = 0.18412077299388183\n",
      "\n",
      "SVM:\n",
      "\n",
      "0\n",
      "0\n",
      "0\n",
      "Loss Function = 0.0\n"
     ]
    }
   ],
   "source": [
    "print(\"softmax:\\n\")\n",
    "loss = 0\n",
    "for i in range(s.shape[0]):\n",
    "    L = softmax(s[i,:], y)\n",
    "    loss += L\n",
    "    print(L)\n",
    "loss = loss/s.shape[0]\n",
    "print(f'Loss Function = {loss}')\n",
    "\n",
    "loss = 0\n",
    "print(\"\\nSVM:\\n\")\n",
    "for i in range(s.shape[0]):\n",
    "    L = svm(s[i,:], y)\n",
    "    loss += L\n",
    "    print(L)\n",
    "loss = loss/s.shape[0]\n",
    "print(f'Loss Function = {loss}')"
   ]
  },
  {
   "cell_type": "code",
   "execution_count": 5,
   "id": "49662904",
   "metadata": {
    "scrolled": true
   },
   "outputs": [
    {
     "data": {
      "text/plain": [
       "array([[  20,   -2,    3],\n",
       "       [  20,    9,    9],\n",
       "       [  20, -100, -100]])"
      ]
     },
     "execution_count": 5,
     "metadata": {},
     "output_type": "execute_result"
    }
   ],
   "source": [
    "s[:,0] += 10\n",
    "s"
   ]
  },
  {
   "cell_type": "code",
   "execution_count": 6,
   "id": "3c85dfef",
   "metadata": {
    "scrolled": true
   },
   "outputs": [
    {
     "name": "stdout",
     "output_type": "stream",
     "text": [
      "softmax:\n",
      "\n",
      "4.167832299541146e-08\n",
      "3.340284369925821e-05\n",
      "-0.0\n",
      "Loss Function = 1.1148174007417874e-05\n",
      "\n",
      "SVM:\n",
      "\n",
      "0\n",
      "0\n",
      "0\n",
      "Loss Function = 0.0\n"
     ]
    }
   ],
   "source": [
    "print(\"softmax:\\n\")\n",
    "loss = 0\n",
    "for i in range(s.shape[0]):\n",
    "    L = softmax(s[i,:], y)\n",
    "    loss += L\n",
    "    print(L)\n",
    "loss = loss/s.shape[0]\n",
    "print(f'Loss Function = {loss}')\n",
    "\n",
    "loss = 0\n",
    "print(\"\\nSVM:\\n\")\n",
    "for i in range(s.shape[0]):\n",
    "    L = svm(s[i,:], y)\n",
    "    loss += L\n",
    "    print(L)\n",
    "loss = loss/s.shape[0]\n",
    "print(f'Loss Function = {loss}')"
   ]
  }
 ],
 "metadata": {
  "kernelspec": {
   "display_name": "Python 3 (ipykernel)",
   "language": "python",
   "name": "python3"
  },
  "language_info": {
   "codemirror_mode": {
    "name": "ipython",
    "version": 3
   },
   "file_extension": ".py",
   "mimetype": "text/x-python",
   "name": "python",
   "nbconvert_exporter": "python",
   "pygments_lexer": "ipython3",
   "version": "3.11.5"
  }
 },
 "nbformat": 4,
 "nbformat_minor": 5
}
